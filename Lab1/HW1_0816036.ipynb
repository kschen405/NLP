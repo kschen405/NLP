{
 "cells": [
  {
   "cell_type": "code",
   "execution_count": 1,
   "metadata": {},
   "outputs": [],
   "source": [
    "#Author: 陳冠昇\n",
    "#Student ID: 0816036\n",
    "#HW ID: HW2"
   ]
  },
  {
   "cell_type": "code",
   "execution_count": 2,
   "metadata": {},
   "outputs": [
    {
     "name": "stderr",
     "output_type": "stream",
     "text": [
      "c:\\Users\\Terry\\AppData\\Local\\Programs\\Python\\Python310\\lib\\site-packages\\tqdm\\auto.py:22: TqdmWarning: IProgress not found. Please update jupyter and ipywidgets. See https://ipywidgets.readthedocs.io/en/stable/user_install.html\n",
      "  from .autonotebook import tqdm as notebook_tqdm\n"
     ]
    }
   ],
   "source": [
    "import spacy\n",
    "import numpy as np\n",
    "import pandas as pd"
   ]
  },
  {
   "cell_type": "code",
   "execution_count": 3,
   "metadata": {},
   "outputs": [],
   "source": [
    "nlp = spacy.load(\"en_core_web_trf\")\n",
    "\n",
    "Inference = 1\n",
    "\n",
    "if Inference:\n",
    "    df = pd.read_csv(\"./dataset.csv\", header=None, names = [\"index\", \"Sentence\", \"S\", \"V\", \"O\"])\n",
    "    sentences = df[\"Sentence\"]\n",
    "    S = df[\"S\"].to_list()\n",
    "    S = [str(s).split(\" \") for s in S]\n",
    "    V = df[\"V\"].to_list()\n",
    "    V = [str(v).split(\" \") for v in V]\n",
    "    O = df[\"O\"].to_list()\n",
    "    O = [str(o).split(\" \") for o in O]\n",
    "else:\n",
    "    df = pd.read_csv(\"./example_with_answer.csv\")\n",
    "    label = df[\"T/F\"]\n",
    "    sentences = df[\"Sentence\"]\n",
    "    S = df[\"S\"].to_list()\n",
    "    S = [s.split(\" \") for s in S]\n",
    "    V = df[\"V\"].to_list()\n",
    "    V = [v.split(\" \") for v in V]\n",
    "    O = df[\"O\"].to_list()\n",
    "    O = [o.split(\" \") for o in O]\n",
    "\n",
    "\n",
    "\n",
    "# print(sentences)"
   ]
  },
  {
   "cell_type": "code",
   "execution_count": 4,
   "metadata": {},
   "outputs": [],
   "source": [
    "\n",
    "def add_valid(id, select_SVO, subj, verb, obj):\n",
    "    # add ---------------------------------------------------------\n",
    "    if subj != None and obj != None:\n",
    "        tmp = [subj, verb, obj]\n",
    "        select_SVO[id].append(tmp)\n",
    "    return select_SVO"
   ]
  },
  {
   "cell_type": "code",
   "execution_count": 5,
   "metadata": {},
   "outputs": [],
   "source": [
    "def find_objects(id, select_SVO, doc, subj, subj_id, verb_id, t):\n",
    "    assert subj != None\n",
    "    obj = None\n",
    "    token = doc[verb_id]\n",
    "    subtree = list(token.subtree)\n",
    "    for i in range(0, len(subtree)):\n",
    "        t = subtree[i]\n",
    "\n",
    "        if token.pos_ == \"AUX\" and t.dep_ == \"attr\": # AUX as root\n",
    "            subsubtree = list(t.subtree)\n",
    "            # attr\n",
    "            obj = t.text\n",
    "            select_SVO = add_valid(id, select_SVO, subj, token.text, obj)\n",
    "            # attr prep pobj\n",
    "            for st in subsubtree:\n",
    "                if st.dep_ == \"prep\" and st.head == t:\n",
    "                    for sst in list(st.subtree):\n",
    "                        if sst.dep_ == \"pobj\" and sst.head == st:\n",
    "                            obj = sst.text\n",
    "                            select_SVO = add_valid(id, select_SVO, subj, token.text, obj)\n",
    "        elif t.dep_ == \"dobj\" and t.head == token:\n",
    "            subsubtree = list(t.subtree)\n",
    "            # dobj\n",
    "            obj = t.text\n",
    "            select_SVO = add_valid(id, select_SVO, subj, token.text, obj)\n",
    "            # dobj prep pobj\n",
    "            for st in subsubtree:\n",
    "                if st.dep_ == \"prep\" and st.head == t:\n",
    "                    for sst in list(st.subtree):\n",
    "                        if sst.dep_ == \"pobj\" and sst.head == st:\n",
    "                            obj = sst.text\n",
    "                            select_SVO = add_valid(id, select_SVO, subj, token.text, obj)\n",
    "\n",
    "\n",
    "        elif t.dep_ == \"prep\" and t.head == token:\n",
    "            subsubtree = list(t.subtree)\n",
    "            # prep pobj\n",
    "            for st in subtree:\n",
    "                if st.dep_ == \"pobj\" and st.head == t:\n",
    "                    obj = st.text\n",
    "                    select_SVO = add_valid(id, select_SVO, subj, token.text, obj)\n",
    "\n",
    "        elif t.dep_ == \"xcomp\":\n",
    "            subsubtree = list(t.subtree)\n",
    "            # xcomp prep pobj\n",
    "            for st in subsubtree:\n",
    "                if st.dep_ == \"prep\" and st.head == t:\n",
    "                    for sst in list(st.subtree):\n",
    "                        if sst.dep_ == \"pobj\" and sst.head == st:\n",
    "                            obj = sst.text\n",
    "                            select_SVO = add_valid(id, select_SVO, subj, token.text, obj)\n",
    "\n",
    "\n",
    "        elif t.dep_ == \"advmod\" and t.head == token:\n",
    "            obj = t.text\n",
    "            select_SVO = add_valid(id, select_SVO, subj, token.text, obj)\n",
    "\n",
    "        \n",
    "        # select_SVO = add_valid(id, select_SVO, subj, token.text, obj)\n",
    "\n",
    "    \n",
    "    return select_SVO"
   ]
  },
  {
   "cell_type": "code",
   "execution_count": 6,
   "metadata": {},
   "outputs": [],
   "source": [
    "from audioop import reverse\n",
    "\n",
    "\n",
    "def parse_sentence(id, select_SVO, doc, verb_id):\n",
    "    subj = None\n",
    "    obj = None\n",
    "    token = doc[verb_id]\n",
    "    subtree = list(token.subtree)\n",
    "\n",
    "    for i, t in enumerate(subtree):\n",
    "        if (t.dep_ == \"nsubj\" or t.dep_ == \"nsubjpass\") and t.head == token:\n",
    "            if t.text == \"who\":\n",
    "                if t.i-1 >= 0:\n",
    "                    subj = doc[t.i-1].text # covered by later subj\n",
    "                    if subj == \",\":\n",
    "                        subj_id = doc[t.i-1].i-1\n",
    "                    else:\n",
    "                        subj_id = doc[t.i-1].i\n",
    "\n",
    "                    \n",
    "                    # select_SVO = add_valid(id, select_SVO, subj, token.text, obj)\n",
    "                    select_SVO = find_objects(id, select_SVO, doc, subj, subj_id, verb_id, t)\n",
    "                before_who = t.i\n",
    "                for j in reversed(range(t.i + 1)):\n",
    "                    if doc[j].dep_ == \"nsubj\" or doc[j].dep_ == \"pobj\":\n",
    "                        before_who = j\n",
    "                        subj = doc[before_who].text\n",
    "                        subj_id = doc[t.i-1].i\n",
    "                        # select_SVO = add_valid(id, select_SVO, subj, token.text, obj)\n",
    "                        select_SVO = find_objects(id, select_SVO, doc, subj, subj_id, verb_id, t)\n",
    "\n",
    "                # subj = doc[before_who].text # head\n",
    "                \n",
    "            else:\n",
    "                subj = t.text\n",
    "                subj_id = doc[t.i-1].i\n",
    "                # select_SVO = add_valid(id, select_SVO, subj, token.text, obj)\n",
    "                select_SVO = find_objects(id, select_SVO, doc, subj, subj_id, verb_id, t)\n",
    "            #-----------------------------------------------\n",
    "\n",
    "    return select_SVO\n"
   ]
  },
  {
   "cell_type": "code",
   "execution_count": 7,
   "metadata": {},
   "outputs": [
    {
     "name": "stdout",
     "output_type": "stream",
     "text": [
      "[0, 1, 1, 1, 0, 0, 1, 1, 0, 0, 0, 0, 1, 1, 0, 0, 0, 0, 0, 0, 1, 1, 0, 0, 0, 0, 0, 1, 1, 0, 0, 0, 0, 0, 0, 1, 1, 1, 0, 1, 0, 0, 0, 0, 0, 0, 1, 1, 0, 0, 0, 1, 0, 1, 0, 1, 0, 1, 0, 0, 0, 0, 1, 0, 1, 1, 0, 0, 1, 0, 0, 0, 0, 1, 0, 0, 0, 0, 0, 0, 1, 0, 1, 0, 1, 0, 1, 1, 1, 1, 0, 0, 0, 0, 0, 1, 0, 0, 0, 0, 0, 0, 0, 1, 1, 1, 0, 0, 1, 1, 1, 1, 1, 1, 0, 0, 0, 0, 1, 1, 0, 0, 0, 1, 1, 0, 0, 1, 1, 0, 0, 1, 0, 0, 1, 0, 0, 0, 1, 1, 0, 1, 1, 0, 0, 1, 1, 0, 1, 0, 0, 0, 0, 0, 1, 0, 0, 1, 1, 1, 1, 0, 0, 1, 0, 0, 0, 1, 1, 1, 0, 0, 0, 0, 0, 0, 0, 0, 1, 0, 0, 1, 0, 0, 0, 1, 0, 0, 0, 0, 1, 1, 0, 1, 1, 1, 0, 0, 0, 0, 0, 1, 0, 1, 0, 1, 1, 0, 0, 0, 0, 0, 0, 0, 0, 0, 1, 0, 0, 0, 1, 0, 1, 1, 1, 0, 0, 1, 1, 1, 1, 0, 0, 0, 1, 0, 0, 0, 1, 1, 1, 1, 0, 0, 0, 0, 0, 1, 0, 0, 0, 0, 1, 1, 0, 1, 0, 0, 1, 1, 0, 1, 0, 1, 0, 0, 1, 0, 0, 0, 0, 1, 0, 1, 0, 1, 1, 1, 1, 1, 0, 1, 0, 1, 1, 1, 0, 1, 1, 1, 0, 0, 0, 0, 0, 0, 0, 0, 0, 1, 1, 1, 0, 0, 0, 0, 0, 0, 1, 1, 1, 0, 0, 0, 0, 0, 0, 1, 0, 0, 0, 1, 0, 0, 0, 0, 0, 0, 0, 0, 0, 1, 0, 0, 0, 1, 0, 1, 1, 1, 0, 0, 0, 0, 1, 0, 0, 0, 1, 0, 0, 1, 1, 1, 0, 0, 0, 1, 0, 0, 0, 0, 0, 0, 0, 1, 0, 0, 1, 0, 0, 0, 1, 0, 0, 1, 1, 0, 0, 0, 1, 1, 0, 0, 0, 0, 0, 1, 1, 0, 1, 0, 0, 1, 1, 1, 1, 0, 0, 1, 0, 0, 0, 0, 0, 0, 1, 1, 0, 1, 1, 0, 0, 0, 0, 0, 1, 1, 1, 1, 0, 0, 0, 1, 0, 0, 1, 1, 0, 0, 0, 0, 0, 0, 0, 0, 0, 0, 0, 1, 1, 0, 1, 0, 0, 0, 0, 0, 0, 0, 0, 1, 0, 1, 0, 0, 0, 0, 0, 0, 0, 0, 0, 1, 1, 1, 1, 0, 1, 0, 1, 1, 0, 1, 1, 1, 0, 0, 1, 0, 0, 0, 1, 0, 1, 0, 0, 1, 0, 0, 1, 0, 0, 0, 0, 0, 0, 0, 0, 0, 0, 0, 0, 1, 0, 0, 0, 0, 0, 0, 0, 1, 0, 0, 1, 0, 0, 1, 1, 0, 0, 1, 1, 0, 1, 1, 1, 0, 0, 1, 0, 0, 0, 0, 0, 0, 0, 0, 0, 1, 1, 0, 0, 1, 0, 1, 1, 0, 1, 0, 0, 0, 1, 1, 0, 0, 1, 0, 1, 0, 1, 0, 0, 0, 0, 0, 1, 0, 1, 0, 1, 1, 1, 0, 0, 1, 0, 0, 0, 0, 0, 1, 1, 0, 0, 1, 0, 0, 1, 0, 0, 1, 1, 0, 1, 1, 1, 1, 0, 0, 0, 1, 0, 1, 0, 1, 0, 0, 0, 0, 1, 0, 0, 1, 0, 1, 1, 1, 0, 0, 1, 0, 1, 0, 1, 0, 0, 0, 1, 1, 0, 0, 0, 0, 0, 0, 0, 0, 0, 0, 0, 0, 1, 1, 0, 0, 0, 0, 0, 0, 0, 0, 0, 0, 0, 1, 1, 0, 0, 0, 0, 0, 0, 0, 0, 1, 0, 0, 0, 1, 0, 0, 0, 1, 0, 0, 0, 1, 1, 1, 0, 0, 1, 1, 1, 0, 0, 1, 1, 0, 0, 0, 0, 0, 1, 0, 1, 0, 1, 0, 1, 0, 1, 0, 0, 0, 0, 1, 1, 0, 0, 0, 1, 0, 0, 1, 0, 0, 1, 1, 0, 1, 0, 0, 0, 0, 1, 0, 0, 0, 0, 1, 1, 1, 0, 1, 0, 1, 0, 0, 0, 1, 0, 1, 1, 1, 1, 1, 0, 0, 1, 1, 0, 0, 0, 0, 0, 1, 1, 0, 1, 1, 0, 1, 1, 1, 1, 0, 1, 0, 1, 0, 0, 0, 0, 1, 0, 1, 0, 0, 0, 0, 0, 0, 0, 1, 0, 0, 0, 1, 0, 0, 0, 0, 0, 1, 0, 0, 0, 1, 1, 1, 0, 0, 0, 0, 1, 0, 0, 0, 0, 0, 1, 0, 0, 0, 0, 0, 0, 0, 0, 1, 0, 0, 1, 1, 1, 1, 0, 1, 0, 1, 1, 0, 0, 1, 0, 1, 0, 0, 0, 0, 1, 0, 1, 0, 0, 0, 0, 1, 0, 1, 0, 0, 0, 1, 0, 0, 1, 1, 0, 0, 1, 0, 0, 1, 0, 1, 0, 0, 0, 0, 0, 0, 0, 0, 0, 0, 1, 0, 0, 0, 0, 1, 0, 0, 1, 0, 1, 0, 0, 0, 0, 1, 0, 0, 0, 0, 1, 0, 0, 1, 0, 0, 1, 0, 0, 0, 1, 1, 0, 1, 0, 0, 0, 1, 1, 0, 1, 0, 0, 0, 0, 0, 1, 0, 0, 1, 1, 0, 0, 1, 0, 1, 1, 0, 0, 0, 1, 1, 0, 1, 0, 1, 1, 1, 0, 0, 1, 0, 0, 0, 0, 0, 0, 0, 1, 0, 0, 0, 1, 1, 1, 1, 0, 1, 0, 1, 0, 1, 1, 1, 1, 0, 1, 0, 0, 0, 1, 1, 0, 1, 0, 1, 1, 1, 0, 1, 0, 1, 1, 0, 0, 1, 1, 0, 0, 0, 1, 0, 0, 0, 0, 1, 1, 0, 1, 0, 0, 0, 0, 1, 0, 0, 0, 1, 0, 1, 1, 1, 1, 0, 1, 0, 1, 1, 0, 0, 1, 0, 0, 0, 0, 1, 1, 0, 1, 0, 0, 1, 1, 0, 1, 0, 1, 1, 0, 1, 1, 1, 0, 1, 1, 0, 0, 1, 0, 0, 1, 1, 1, 1, 0, 0, 0, 0, 1, 0, 1, 0, 1, 0, 0, 0, 1, 0, 0, 0, 1, 0, 1, 0, 0, 0, 0, 0, 0, 0, 1, 1, 0, 0, 0, 1, 0, 0, 0, 0, 0, 1, 0, 1, 1, 0, 1, 0, 0, 0, 1, 0, 0, 0, 0, 0, 0, 1, 0, 1, 0, 1, 0, 0, 0, 1, 1, 0, 0, 0, 0, 0, 0, 0, 0, 0, 0, 0, 0, 0, 0, 0, 1, 0, 1, 0, 0, 0, 0, 0, 0, 0, 0, 1, 1, 0, 0, 0, 0, 0, 0, 0, 1, 0, 1, 1, 0, 0, 0, 1, 0, 0, 1, 0, 1, 1, 0, 0, 0, 0, 0, 0, 0, 1, 0, 0, 0, 0, 1, 0, 0, 1, 0, 1, 0, 1, 0, 1, 0, 0, 0, 0, 0, 0, 1, 0, 0, 0, 1, 0, 0, 0, 0, 0, 1, 0, 1, 0, 1, 0, 1, 0, 0, 1, 1, 1, 0, 0, 1, 1, 1, 0, 1, 1, 1, 1, 0, 1, 1, 0, 1, 1, 1, 0, 0, 1, 0, 1, 1, 1, 1, 1, 0, 0, 0, 1, 0, 1, 0, 1, 0, 1, 0, 1]\n",
      "[['statement', 'addressed', 'terms'], ['statement', 'addressed', 'concerns']]\n"
     ]
    }
   ],
   "source": [
    "y_pred = [0]*len(sentences)\n",
    "select_SVO = [[] for i in range(len(sentences))]\n",
    "s_pred = [None]*len(sentences)\n",
    "v_pred = [None]*len(sentences)\n",
    "o_pred = [None]*len(sentences)\n",
    "\n",
    "for id, sentence in enumerate(sentences):\n",
    "    subj = None\n",
    "    verb = None\n",
    "    obj = None\n",
    "    doc = nlp(sentence)\n",
    "    verb_lst = [(i, token.text) for i, token in enumerate(doc) if token.pos_ == \"VERB\"]\n",
    "    possible = [\"is\", \"was\", \"are\", \"were\"]\n",
    "    aux_lst = [(i, token.text) for i, token in enumerate(doc) if token.pos_ == \"AUX\"]\n",
    "    # Valid = 0\n",
    "    for verb_id, verb in verb_lst: # verb: (index, text)\n",
    "        select_SVO = parse_sentence(id, select_SVO, doc, verb_id)\n",
    "        # if subj != None and obj != None:\n",
    "        #     Valid = 1\n",
    "        #     tmp = [subj, verb, obj]\n",
    "        #     select_SVO[id].append(tmp)\n",
    "    for aux_id, aux in aux_lst:\n",
    "        select_SVO = parse_sentence(id, select_SVO, doc, aux_id)\n",
    "        # if subj != None and obj != None:\n",
    "        #     Valid = 1\n",
    "        #     tmp = [subj, verb, obj]\n",
    "        #     select_SVO[id].append(tmp)\n",
    "    # determine label\n",
    "    # if Valid:\n",
    "    # print(select_SVO)\n",
    "    for tmps in select_SVO:\n",
    "        for tmp in tmps:\n",
    "            subj, verb, obj = tmp\n",
    "            if subj in S[id] and verb in V[id] and obj in O[id]:\n",
    "                y_pred[id] = 1\n",
    "                s_pred[id] = subj\n",
    "                v_pred[id] = verb\n",
    "                o_pred[id] = obj\n",
    "                break\n",
    "    # if Valid == 0:\n",
    "    #     y_pred.append(0)\n",
    "    # else:\n",
    "        # y_pred.append(0)\n",
    "print(y_pred)\n",
    "print(select_SVO[17])\n",
    "\n",
    "if Inference:\n",
    "    index = [i for i in range(len(y_pred))]\n",
    "    dict = {\"index\": index, \"T/F\": y_pred} \n",
    "    output_df = pd.DataFrame(dict)\n",
    "    output_df.to_csv(\"prediciton_3.csv\", index= False)\n",
    "else:\n",
    "    dict = { \"T/F\": y_pred, \"S\": s_pred, \"V\": v_pred, \"O\": o_pred} # \"index\": index, \n",
    "    output_df = pd.DataFrame(dict)\n",
    "    output_df.to_csv(\"test.csv\", header=False, index= False)\n"
   ]
  },
  {
   "cell_type": "code",
   "execution_count": 8,
   "metadata": {},
   "outputs": [
    {
     "name": "stdout",
     "output_type": "stream",
     "text": [
      "In broad terms , the statement released by Mar 'ie addressed these concerns .\n"
     ]
    }
   ],
   "source": [
    "check = 18\n",
    "print(sentences[check-1])"
   ]
  },
  {
   "cell_type": "code",
   "execution_count": 9,
   "metadata": {},
   "outputs": [
    {
     "data": {
      "text/html": [
       "<span class=\"tex2jax_ignore\"><svg xmlns=\"http://www.w3.org/2000/svg\" xmlns:xlink=\"http://www.w3.org/1999/xlink\" xml:lang=\"en\" id=\"b044131aff5140dab5c5e65cfea5795a-0\" class=\"displacy\" width=\"2150\" height=\"487.0\" direction=\"ltr\" style=\"max-width: none; height: 487.0px; color: #000000; background: #ffffff; font-family: Arial; direction: ltr\">\n",
       "<text class=\"displacy-token\" fill=\"currentColor\" text-anchor=\"middle\" y=\"397.0\">\n",
       "    <tspan class=\"displacy-word\" fill=\"currentColor\" x=\"50\">In</tspan>\n",
       "    <tspan class=\"displacy-tag\" dy=\"2em\" fill=\"currentColor\" x=\"50\">ADP</tspan>\n",
       "</text>\n",
       "\n",
       "<text class=\"displacy-token\" fill=\"currentColor\" text-anchor=\"middle\" y=\"397.0\">\n",
       "    <tspan class=\"displacy-word\" fill=\"currentColor\" x=\"225\">broad</tspan>\n",
       "    <tspan class=\"displacy-tag\" dy=\"2em\" fill=\"currentColor\" x=\"225\">ADJ</tspan>\n",
       "</text>\n",
       "\n",
       "<text class=\"displacy-token\" fill=\"currentColor\" text-anchor=\"middle\" y=\"397.0\">\n",
       "    <tspan class=\"displacy-word\" fill=\"currentColor\" x=\"400\">terms ,</tspan>\n",
       "    <tspan class=\"displacy-tag\" dy=\"2em\" fill=\"currentColor\" x=\"400\">NOUN</tspan>\n",
       "</text>\n",
       "\n",
       "<text class=\"displacy-token\" fill=\"currentColor\" text-anchor=\"middle\" y=\"397.0\">\n",
       "    <tspan class=\"displacy-word\" fill=\"currentColor\" x=\"575\">the</tspan>\n",
       "    <tspan class=\"displacy-tag\" dy=\"2em\" fill=\"currentColor\" x=\"575\">DET</tspan>\n",
       "</text>\n",
       "\n",
       "<text class=\"displacy-token\" fill=\"currentColor\" text-anchor=\"middle\" y=\"397.0\">\n",
       "    <tspan class=\"displacy-word\" fill=\"currentColor\" x=\"750\">statement</tspan>\n",
       "    <tspan class=\"displacy-tag\" dy=\"2em\" fill=\"currentColor\" x=\"750\">NOUN</tspan>\n",
       "</text>\n",
       "\n",
       "<text class=\"displacy-token\" fill=\"currentColor\" text-anchor=\"middle\" y=\"397.0\">\n",
       "    <tspan class=\"displacy-word\" fill=\"currentColor\" x=\"925\">released</tspan>\n",
       "    <tspan class=\"displacy-tag\" dy=\"2em\" fill=\"currentColor\" x=\"925\">VERB</tspan>\n",
       "</text>\n",
       "\n",
       "<text class=\"displacy-token\" fill=\"currentColor\" text-anchor=\"middle\" y=\"397.0\">\n",
       "    <tspan class=\"displacy-word\" fill=\"currentColor\" x=\"1100\">by</tspan>\n",
       "    <tspan class=\"displacy-tag\" dy=\"2em\" fill=\"currentColor\" x=\"1100\">ADP</tspan>\n",
       "</text>\n",
       "\n",
       "<text class=\"displacy-token\" fill=\"currentColor\" text-anchor=\"middle\" y=\"397.0\">\n",
       "    <tspan class=\"displacy-word\" fill=\"currentColor\" x=\"1275\">Mar '</tspan>\n",
       "    <tspan class=\"displacy-tag\" dy=\"2em\" fill=\"currentColor\" x=\"1275\">PROPN</tspan>\n",
       "</text>\n",
       "\n",
       "<text class=\"displacy-token\" fill=\"currentColor\" text-anchor=\"middle\" y=\"397.0\">\n",
       "    <tspan class=\"displacy-word\" fill=\"currentColor\" x=\"1450\">ie</tspan>\n",
       "    <tspan class=\"displacy-tag\" dy=\"2em\" fill=\"currentColor\" x=\"1450\">PROPN</tspan>\n",
       "</text>\n",
       "\n",
       "<text class=\"displacy-token\" fill=\"currentColor\" text-anchor=\"middle\" y=\"397.0\">\n",
       "    <tspan class=\"displacy-word\" fill=\"currentColor\" x=\"1625\">addressed</tspan>\n",
       "    <tspan class=\"displacy-tag\" dy=\"2em\" fill=\"currentColor\" x=\"1625\">VERB</tspan>\n",
       "</text>\n",
       "\n",
       "<text class=\"displacy-token\" fill=\"currentColor\" text-anchor=\"middle\" y=\"397.0\">\n",
       "    <tspan class=\"displacy-word\" fill=\"currentColor\" x=\"1800\">these</tspan>\n",
       "    <tspan class=\"displacy-tag\" dy=\"2em\" fill=\"currentColor\" x=\"1800\">DET</tspan>\n",
       "</text>\n",
       "\n",
       "<text class=\"displacy-token\" fill=\"currentColor\" text-anchor=\"middle\" y=\"397.0\">\n",
       "    <tspan class=\"displacy-word\" fill=\"currentColor\" x=\"1975\">concerns .</tspan>\n",
       "    <tspan class=\"displacy-tag\" dy=\"2em\" fill=\"currentColor\" x=\"1975\">NOUN</tspan>\n",
       "</text>\n",
       "\n",
       "<g class=\"displacy-arrow\">\n",
       "    <path class=\"displacy-arc\" id=\"arrow-b044131aff5140dab5c5e65cfea5795a-0-0\" stroke-width=\"2px\" d=\"M70,352.0 C70,2.0 1625.0,2.0 1625.0,352.0\" fill=\"none\" stroke=\"currentColor\"/>\n",
       "    <text dy=\"1.25em\" style=\"font-size: 0.8em; letter-spacing: 1px\">\n",
       "        <textPath xlink:href=\"#arrow-b044131aff5140dab5c5e65cfea5795a-0-0\" class=\"displacy-label\" startOffset=\"50%\" side=\"left\" fill=\"currentColor\" text-anchor=\"middle\">prep</textPath>\n",
       "    </text>\n",
       "    <path class=\"displacy-arrowhead\" d=\"M70,354.0 L62,342.0 78,342.0\" fill=\"currentColor\"/>\n",
       "</g>\n",
       "\n",
       "<g class=\"displacy-arrow\">\n",
       "    <path class=\"displacy-arc\" id=\"arrow-b044131aff5140dab5c5e65cfea5795a-0-1\" stroke-width=\"2px\" d=\"M245,352.0 C245,264.5 385.0,264.5 385.0,352.0\" fill=\"none\" stroke=\"currentColor\"/>\n",
       "    <text dy=\"1.25em\" style=\"font-size: 0.8em; letter-spacing: 1px\">\n",
       "        <textPath xlink:href=\"#arrow-b044131aff5140dab5c5e65cfea5795a-0-1\" class=\"displacy-label\" startOffset=\"50%\" side=\"left\" fill=\"currentColor\" text-anchor=\"middle\">amod</textPath>\n",
       "    </text>\n",
       "    <path class=\"displacy-arrowhead\" d=\"M245,354.0 L237,342.0 253,342.0\" fill=\"currentColor\"/>\n",
       "</g>\n",
       "\n",
       "<g class=\"displacy-arrow\">\n",
       "    <path class=\"displacy-arc\" id=\"arrow-b044131aff5140dab5c5e65cfea5795a-0-2\" stroke-width=\"2px\" d=\"M70,352.0 C70,177.0 390.0,177.0 390.0,352.0\" fill=\"none\" stroke=\"currentColor\"/>\n",
       "    <text dy=\"1.25em\" style=\"font-size: 0.8em; letter-spacing: 1px\">\n",
       "        <textPath xlink:href=\"#arrow-b044131aff5140dab5c5e65cfea5795a-0-2\" class=\"displacy-label\" startOffset=\"50%\" side=\"left\" fill=\"currentColor\" text-anchor=\"middle\">pobj</textPath>\n",
       "    </text>\n",
       "    <path class=\"displacy-arrowhead\" d=\"M390.0,354.0 L398.0,342.0 382.0,342.0\" fill=\"currentColor\"/>\n",
       "</g>\n",
       "\n",
       "<g class=\"displacy-arrow\">\n",
       "    <path class=\"displacy-arc\" id=\"arrow-b044131aff5140dab5c5e65cfea5795a-0-3\" stroke-width=\"2px\" d=\"M595,352.0 C595,264.5 735.0,264.5 735.0,352.0\" fill=\"none\" stroke=\"currentColor\"/>\n",
       "    <text dy=\"1.25em\" style=\"font-size: 0.8em; letter-spacing: 1px\">\n",
       "        <textPath xlink:href=\"#arrow-b044131aff5140dab5c5e65cfea5795a-0-3\" class=\"displacy-label\" startOffset=\"50%\" side=\"left\" fill=\"currentColor\" text-anchor=\"middle\">det</textPath>\n",
       "    </text>\n",
       "    <path class=\"displacy-arrowhead\" d=\"M595,354.0 L587,342.0 603,342.0\" fill=\"currentColor\"/>\n",
       "</g>\n",
       "\n",
       "<g class=\"displacy-arrow\">\n",
       "    <path class=\"displacy-arc\" id=\"arrow-b044131aff5140dab5c5e65cfea5795a-0-4\" stroke-width=\"2px\" d=\"M770,352.0 C770,89.5 1620.0,89.5 1620.0,352.0\" fill=\"none\" stroke=\"currentColor\"/>\n",
       "    <text dy=\"1.25em\" style=\"font-size: 0.8em; letter-spacing: 1px\">\n",
       "        <textPath xlink:href=\"#arrow-b044131aff5140dab5c5e65cfea5795a-0-4\" class=\"displacy-label\" startOffset=\"50%\" side=\"left\" fill=\"currentColor\" text-anchor=\"middle\">nsubj</textPath>\n",
       "    </text>\n",
       "    <path class=\"displacy-arrowhead\" d=\"M770,354.0 L762,342.0 778,342.0\" fill=\"currentColor\"/>\n",
       "</g>\n",
       "\n",
       "<g class=\"displacy-arrow\">\n",
       "    <path class=\"displacy-arc\" id=\"arrow-b044131aff5140dab5c5e65cfea5795a-0-5\" stroke-width=\"2px\" d=\"M770,352.0 C770,264.5 910.0,264.5 910.0,352.0\" fill=\"none\" stroke=\"currentColor\"/>\n",
       "    <text dy=\"1.25em\" style=\"font-size: 0.8em; letter-spacing: 1px\">\n",
       "        <textPath xlink:href=\"#arrow-b044131aff5140dab5c5e65cfea5795a-0-5\" class=\"displacy-label\" startOffset=\"50%\" side=\"left\" fill=\"currentColor\" text-anchor=\"middle\">acl</textPath>\n",
       "    </text>\n",
       "    <path class=\"displacy-arrowhead\" d=\"M910.0,354.0 L918.0,342.0 902.0,342.0\" fill=\"currentColor\"/>\n",
       "</g>\n",
       "\n",
       "<g class=\"displacy-arrow\">\n",
       "    <path class=\"displacy-arc\" id=\"arrow-b044131aff5140dab5c5e65cfea5795a-0-6\" stroke-width=\"2px\" d=\"M945,352.0 C945,264.5 1085.0,264.5 1085.0,352.0\" fill=\"none\" stroke=\"currentColor\"/>\n",
       "    <text dy=\"1.25em\" style=\"font-size: 0.8em; letter-spacing: 1px\">\n",
       "        <textPath xlink:href=\"#arrow-b044131aff5140dab5c5e65cfea5795a-0-6\" class=\"displacy-label\" startOffset=\"50%\" side=\"left\" fill=\"currentColor\" text-anchor=\"middle\">agent</textPath>\n",
       "    </text>\n",
       "    <path class=\"displacy-arrowhead\" d=\"M1085.0,354.0 L1093.0,342.0 1077.0,342.0\" fill=\"currentColor\"/>\n",
       "</g>\n",
       "\n",
       "<g class=\"displacy-arrow\">\n",
       "    <path class=\"displacy-arc\" id=\"arrow-b044131aff5140dab5c5e65cfea5795a-0-7\" stroke-width=\"2px\" d=\"M1120,352.0 C1120,264.5 1260.0,264.5 1260.0,352.0\" fill=\"none\" stroke=\"currentColor\"/>\n",
       "    <text dy=\"1.25em\" style=\"font-size: 0.8em; letter-spacing: 1px\">\n",
       "        <textPath xlink:href=\"#arrow-b044131aff5140dab5c5e65cfea5795a-0-7\" class=\"displacy-label\" startOffset=\"50%\" side=\"left\" fill=\"currentColor\" text-anchor=\"middle\">pobj</textPath>\n",
       "    </text>\n",
       "    <path class=\"displacy-arrowhead\" d=\"M1260.0,354.0 L1268.0,342.0 1252.0,342.0\" fill=\"currentColor\"/>\n",
       "</g>\n",
       "\n",
       "<g class=\"displacy-arrow\">\n",
       "    <path class=\"displacy-arc\" id=\"arrow-b044131aff5140dab5c5e65cfea5795a-0-8\" stroke-width=\"2px\" d=\"M1120,352.0 C1120,177.0 1440.0,177.0 1440.0,352.0\" fill=\"none\" stroke=\"currentColor\"/>\n",
       "    <text dy=\"1.25em\" style=\"font-size: 0.8em; letter-spacing: 1px\">\n",
       "        <textPath xlink:href=\"#arrow-b044131aff5140dab5c5e65cfea5795a-0-8\" class=\"displacy-label\" startOffset=\"50%\" side=\"left\" fill=\"currentColor\" text-anchor=\"middle\">pobj</textPath>\n",
       "    </text>\n",
       "    <path class=\"displacy-arrowhead\" d=\"M1440.0,354.0 L1448.0,342.0 1432.0,342.0\" fill=\"currentColor\"/>\n",
       "</g>\n",
       "\n",
       "<g class=\"displacy-arrow\">\n",
       "    <path class=\"displacy-arc\" id=\"arrow-b044131aff5140dab5c5e65cfea5795a-0-9\" stroke-width=\"2px\" d=\"M1820,352.0 C1820,264.5 1960.0,264.5 1960.0,352.0\" fill=\"none\" stroke=\"currentColor\"/>\n",
       "    <text dy=\"1.25em\" style=\"font-size: 0.8em; letter-spacing: 1px\">\n",
       "        <textPath xlink:href=\"#arrow-b044131aff5140dab5c5e65cfea5795a-0-9\" class=\"displacy-label\" startOffset=\"50%\" side=\"left\" fill=\"currentColor\" text-anchor=\"middle\">det</textPath>\n",
       "    </text>\n",
       "    <path class=\"displacy-arrowhead\" d=\"M1820,354.0 L1812,342.0 1828,342.0\" fill=\"currentColor\"/>\n",
       "</g>\n",
       "\n",
       "<g class=\"displacy-arrow\">\n",
       "    <path class=\"displacy-arc\" id=\"arrow-b044131aff5140dab5c5e65cfea5795a-0-10\" stroke-width=\"2px\" d=\"M1645,352.0 C1645,177.0 1965.0,177.0 1965.0,352.0\" fill=\"none\" stroke=\"currentColor\"/>\n",
       "    <text dy=\"1.25em\" style=\"font-size: 0.8em; letter-spacing: 1px\">\n",
       "        <textPath xlink:href=\"#arrow-b044131aff5140dab5c5e65cfea5795a-0-10\" class=\"displacy-label\" startOffset=\"50%\" side=\"left\" fill=\"currentColor\" text-anchor=\"middle\">dobj</textPath>\n",
       "    </text>\n",
       "    <path class=\"displacy-arrowhead\" d=\"M1965.0,354.0 L1973.0,342.0 1957.0,342.0\" fill=\"currentColor\"/>\n",
       "</g>\n",
       "</svg></span>"
      ],
      "text/plain": [
       "<IPython.core.display.HTML object>"
      ]
     },
     "metadata": {},
     "output_type": "display_data"
    }
   ],
   "source": [
    "spacy.displacy.render(nlp(sentences[check-1]), style='dep')"
   ]
  },
  {
   "cell_type": "code",
   "execution_count": 10,
   "metadata": {},
   "outputs": [
    {
     "name": "stdout",
     "output_type": "stream",
     "text": [
      "In ADP prep < prepositional modifier > [addressed]\n",
      "broad ADJ amod < adjectival modifier > [terms]\n",
      "terms NOUN pobj < object of preposition > [In]\n",
      ", PUNCT punct < punctuation > [addressed]\n",
      "the DET det < determiner > [statement]\n",
      "statement NOUN nsubj < nominal subject > [addressed]\n",
      "released VERB acl < clausal modifier of noun (adjectival clause) > [statement]\n",
      "by ADP agent < agent > [released]\n",
      "Mar PROPN compound < compound > [']\n",
      "' PROPN pobj < object of preposition > [by]\n",
      "ie PROPN pobj < object of preposition > [by]\n",
      "addressed VERB ROOT < root > [addressed]\n",
      "these DET det < determiner > [concerns]\n",
      "concerns NOUN dobj < direct object > [addressed]\n",
      ". PUNCT punct < punctuation > [addressed]\n"
     ]
    }
   ],
   "source": [
    "for token in nlp(sentences[check-1]):\n",
    "    # print(token.text, list(token.subtree))\n",
    "    print(token.text, token.pos_, token.dep_, f\"< {spacy.explain(token.dep_)} >\", f\"[{token.head}]\")"
   ]
  },
  {
   "cell_type": "code",
   "execution_count": 11,
   "metadata": {},
   "outputs": [
    {
     "name": "stdout",
     "output_type": "stream",
     "text": [
      "In [In, broad, terms]\n",
      "broad [broad]\n",
      "terms [broad, terms]\n",
      ", [,]\n",
      "the [the]\n",
      "statement [the, statement, released, by, Mar, ', ie]\n",
      "released [released, by, Mar, ', ie]\n",
      "by [by, Mar, ', ie]\n",
      "Mar [Mar]\n",
      "' [Mar, ']\n",
      "ie [ie]\n",
      "addressed [In, broad, terms, ,, the, statement, released, by, Mar, ', ie, addressed, these, concerns, .]\n",
      "these [these]\n",
      "concerns [these, concerns]\n",
      ". [.]\n"
     ]
    }
   ],
   "source": [
    "for token in nlp(sentences[check-1]):\n",
    "    print(token.text, list(token.subtree))"
   ]
  },
  {
   "cell_type": "code",
   "execution_count": 12,
   "metadata": {},
   "outputs": [
    {
     "name": "stdout",
     "output_type": "stream",
     "text": [
      "[[(None, None, None)], [(None, None, None)], [(None, None, None)]]\n",
      "(1, 2, 3)\n"
     ]
    }
   ],
   "source": [
    "a = [[(None, None, None)]]*3\n",
    "print(a)\n",
    "b = (1,2,3)\n",
    "print(b)"
   ]
  },
  {
   "cell_type": "code",
   "execution_count": 13,
   "metadata": {},
   "outputs": [
    {
     "name": "stdout",
     "output_type": "stream",
     "text": [
      "[(None, None, None)]\n"
     ]
    },
    {
     "data": {
      "text/plain": [
       "[[(None, None, None), (1, 2, 3)],\n",
       " [(None, None, None), (1, 2, 3)],\n",
       " [(None, None, None), (1, 2, 3)]]"
      ]
     },
     "execution_count": 13,
     "metadata": {},
     "output_type": "execute_result"
    }
   ],
   "source": [
    "aa = a[2]\n",
    "print(aa)\n",
    "aa.append(b)\n",
    "a\n"
   ]
  },
  {
   "cell_type": "code",
   "execution_count": null,
   "metadata": {},
   "outputs": [],
   "source": []
  }
 ],
 "metadata": {
  "kernelspec": {
   "display_name": "Python 3.10.5 64-bit",
   "language": "python",
   "name": "python3"
  },
  "language_info": {
   "codemirror_mode": {
    "name": "ipython",
    "version": 3
   },
   "file_extension": ".py",
   "mimetype": "text/x-python",
   "name": "python",
   "nbconvert_exporter": "python",
   "pygments_lexer": "ipython3",
   "version": "3.10.5"
  },
  "orig_nbformat": 4,
  "vscode": {
   "interpreter": {
    "hash": "2cefb6477faab595c65c4416ff83d6c7b73571d0f54d603d29c372c95ba24cd5"
   }
  }
 },
 "nbformat": 4,
 "nbformat_minor": 2
}
